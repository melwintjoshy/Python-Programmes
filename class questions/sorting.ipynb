{
 "cells": [
  {
   "cell_type": "code",
   "execution_count": 15,
   "id": "60725b57",
   "metadata": {},
   "outputs": [],
   "source": [
    "def bubbleSort(arr, n):\n",
    "    for i in range(n - 1):\n",
    "        for j in range(n - i - 1):\n",
    "            if arr[j] > arr[j + 1]:\n",
    "                temp = arr[j]\n",
    "                arr[j] = arr[j + 1]\n",
    "                arr[j + 1] =  temp"
   ]
  },
  {
   "cell_type": "code",
   "execution_count": 21,
   "id": "1b0a9ab2",
   "metadata": {},
   "outputs": [
    {
     "name": "stdout",
     "output_type": "stream",
     "text": [
      "Enter the number of elements: \n",
      "5\n",
      "Enter the element 0 :2\n",
      "Enter the element 1 :4\n",
      "Enter the element 2 :1\n",
      "Enter the element 3 :8\n",
      "Enter the element 4 :9\n"
     ]
    }
   ],
   "source": [
    "arr = []\n",
    "n = int(input(\"Enter the number of elements: \\n\"))\n",
    "\n",
    "for i in range(n):\n",
    "    elem = int(input(f\"Enter the element {i} :\"))\n",
    "    arr.append(elem)\n",
    "    "
   ]
  },
  {
   "cell_type": "code",
   "execution_count": 22,
   "id": "6184ed30",
   "metadata": {},
   "outputs": [],
   "source": [
    "bubbleSort(arr, n)"
   ]
  },
  {
   "cell_type": "code",
   "execution_count": 23,
   "id": "512b78dd",
   "metadata": {},
   "outputs": [
    {
     "name": "stdout",
     "output_type": "stream",
     "text": [
      "[1, 2, 4, 8, 9]\n"
     ]
    }
   ],
   "source": [
    "print(arr)"
   ]
  },
  {
   "cell_type": "code",
   "execution_count": null,
   "id": "a5972f63",
   "metadata": {},
   "outputs": [],
   "source": []
  }
 ],
 "metadata": {
  "kernelspec": {
   "display_name": "Python 3 (ipykernel)",
   "language": "python",
   "name": "python3"
  },
  "language_info": {
   "codemirror_mode": {
    "name": "ipython",
    "version": 3
   },
   "file_extension": ".py",
   "mimetype": "text/x-python",
   "name": "python",
   "nbconvert_exporter": "python",
   "pygments_lexer": "ipython3",
   "version": "3.10.12"
  }
 },
 "nbformat": 4,
 "nbformat_minor": 5
}
