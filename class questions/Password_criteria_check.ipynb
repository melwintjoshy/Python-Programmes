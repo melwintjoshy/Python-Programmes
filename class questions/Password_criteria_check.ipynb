{
 "cells": [
  {
   "cell_type": "code",
   "execution_count": 1,
   "id": "3754071f",
   "metadata": {},
   "outputs": [],
   "source": [
    "def check(passw):\n",
    "    point = 0\n",
    "    criteria_messages = []\n",
    "    if not any(chr(i) in passw for i in range(97, 123)):\n",
    "        criteria_messages.append(\"Criteria 1 not satisfied: At least one lowercase letter required.\")\n",
    "        point += 1\n",
    "\n",
    "    if not any(str(i) in passw for i in range(10)):\n",
    "        criteria_messages.append(\"Criteria 2 not satisfied: At least one digit required.\")\n",
    "        point += 1\n",
    "    \n",
    "    if not any(chr(i) in passw for i in range(65, 91)):\n",
    "        criteria_messages.append(\"Criteria 3 not satisfied: At least one uppercase letter required.\")\n",
    "        point += 1\n",
    "\n",
    "    if not any(char in passw for char in \"$#@\"):\n",
    "        criteria_messages.append(\"Criteria 4 not satisfied: At least one special character ($#@) required.\")\n",
    "        point += 1\n",
    "\n",
    "    if len(passw) < 6:\n",
    "        criteria_messages.append(\"Criteria 5 not satisfied: Password must be at least 6 characters long.\")\n",
    "        point += 1\n",
    "\n",
    "    if point == 0:\n",
    "        print(\"ALL CRITERIA SATISFIED\")\n",
    "    else:\n",
    "        for message in criteria_messages:\n",
    "            print(message)"
   ]
  },
  {
   "cell_type": "code",
   "execution_count": 2,
   "id": "10e104d8",
   "metadata": {},
   "outputs": [
    {
     "name": "stdout",
     "output_type": "stream",
     "text": [
      "Enter the password: ppp123#\n"
     ]
    }
   ],
   "source": [
    "passw = input(\"Enter the password: \")"
   ]
  },
  {
   "cell_type": "code",
   "execution_count": 3,
   "id": "7f327c66",
   "metadata": {},
   "outputs": [
    {
     "name": "stdout",
     "output_type": "stream",
     "text": [
      "Criteria 3 not satisfied: At least one uppercase letter required.\n"
     ]
    }
   ],
   "source": [
    "check(passw)"
   ]
  },
  {
   "cell_type": "code",
   "execution_count": null,
   "id": "0f7176f3",
   "metadata": {},
   "outputs": [],
   "source": []
  }
 ],
 "metadata": {
  "kernelspec": {
   "display_name": "Python 3 (ipykernel)",
   "language": "python",
   "name": "python3"
  },
  "language_info": {
   "codemirror_mode": {
    "name": "ipython",
    "version": 3
   },
   "file_extension": ".py",
   "mimetype": "text/x-python",
   "name": "python",
   "nbconvert_exporter": "python",
   "pygments_lexer": "ipython3",
   "version": "3.10.12"
  }
 },
 "nbformat": 4,
 "nbformat_minor": 5
}
