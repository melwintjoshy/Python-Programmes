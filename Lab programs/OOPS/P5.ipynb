{
 "cells": [
  {
   "cell_type": "markdown",
   "id": "e2e55747",
   "metadata": {},
   "source": [
    "# Program 5"
   ]
  },
  {
   "cell_type": "markdown",
   "id": "9bea8b78",
   "metadata": {},
   "source": [
    "## Write a Python program to create a class representing a binary search tree with methods for inserting and searching for elements.\n"
   ]
  },
  {
   "cell_type": "code",
   "execution_count": 1,
   "id": "8771e461",
   "metadata": {},
   "outputs": [],
   "source": [
    "class Node:\n",
    "    def __init__(self, value):\n",
    "        self.value = value\n",
    "        self.right = None\n",
    "        self.left = None"
   ]
  },
  {
   "cell_type": "code",
   "execution_count": 9,
   "id": "e9381c5d",
   "metadata": {},
   "outputs": [],
   "source": [
    "class Bst:\n",
    "    def __init__(self):\n",
    "        self.root = None\n",
    "    \n",
    "    def insert(self, data):\n",
    "        if self.root is None:\n",
    "             self.root = Node(data)\n",
    "        else:\n",
    "            self._insert(self.root, data)\n",
    "    \n",
    "    def _insert(self, node, data):\n",
    "        if data < node.value:\n",
    "            if node.left is None:\n",
    "                node.left = Node(data)\n",
    "            else:\n",
    "                self._insert(node.left, data)\n",
    "        elif data > node.value:  \n",
    "            if node.right is None:\n",
    "                node.right = Node(data)\n",
    "            else:\n",
    "                self._insert(node.right, data)\n",
    "                \n",
    "    def search(self, key):\n",
    "        return self._search(self.root, key)\n",
    "    \n",
    "    def _search(self, node, key):\n",
    "        if node is None:\n",
    "            return False\n",
    "        if key == node.value:\n",
    "            return True\n",
    "        elif key < node.value:\n",
    "            return self._search(node.left, key)\n",
    "        elif key > node.value:\n",
    "            return self._search(node.right, key)"
   ]
  },
  {
   "cell_type": "code",
   "execution_count": 11,
   "id": "f6a7002e",
   "metadata": {},
   "outputs": [
    {
     "name": "stdout",
     "output_type": "stream",
     "text": [
      "Search for 7: True\n",
      "Search for 20: False\n"
     ]
    }
   ],
   "source": [
    "if __name__ == \"__main__\":\n",
    "    bst = Bst()\n",
    "    bst.insert(10)\n",
    "    bst.insert(5)\n",
    "    bst.insert(15)\n",
    "    bst.insert(3)\n",
    "    bst.insert(7)\n",
    "\n",
    "    \n",
    "    print(\"Search for 7:\", bst.search(7))   \n",
    "    print(\"Search for 20:\", bst.search(20))  "
   ]
  }
 ],
 "metadata": {
  "kernelspec": {
   "display_name": "Python 3 (ipykernel)",
   "language": "python",
   "name": "python3"
  },
  "language_info": {
   "codemirror_mode": {
    "name": "ipython",
    "version": 3
   },
   "file_extension": ".py",
   "mimetype": "text/x-python",
   "name": "python",
   "nbconvert_exporter": "python",
   "pygments_lexer": "ipython3",
   "version": "3.10.12"
  }
 },
 "nbformat": 4,
 "nbformat_minor": 5
}
