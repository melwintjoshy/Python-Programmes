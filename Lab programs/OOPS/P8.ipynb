{
 "cells": [
  {
   "cell_type": "markdown",
   "id": "71a341d9",
   "metadata": {},
   "source": [
    "# Program 8"
   ]
  },
  {
   "cell_type": "markdown",
   "id": "f6eafd0d",
   "metadata": {},
   "source": [
    "## Write a Python program to create a shopping cart class with methods for adding/removing items and calculating the total price."
   ]
  },
  {
   "cell_type": "code",
   "execution_count": 79,
   "id": "81e7a7e1",
   "metadata": {},
   "outputs": [],
   "source": [
    "class Cart:\n",
    "    def __init__(self):\n",
    "        self.list = {}\n",
    "        \n",
    "    def add(self, p_name, price):\n",
    "        self.list[p_name] = price\n",
    "        \n",
    "    def rem(self, p_name):\n",
    "        del self.list[p_name]\n",
    "        \n",
    "    def total(self):\n",
    "        total = 0\n",
    "        for value in self.list.value():\n",
    "            total += value\n",
    "        print(f\"Grand Total = {total}\")\n",
    "            \n",
    "    def showCart(self):\n",
    "        print(f\"Product Name {' ' * 12}Price \\n\")\n",
    "        for key, value in self.list.items(): \n",
    "            print(f\"{key:<25} {value}\")\n",
    "    "
   ]
  },
  {
   "cell_type": "code",
   "execution_count": 80,
   "id": "31fbcef5",
   "metadata": {},
   "outputs": [],
   "source": [
    "user1 = Cart()"
   ]
  },
  {
   "cell_type": "code",
   "execution_count": 81,
   "id": "97c7bf9f",
   "metadata": {},
   "outputs": [],
   "source": [
    "user1.add('earpods', 75)\n",
    "user1.add('book', 28)\n",
    "user1.add('jacket', 105)\n",
    "user1.add('whey', 120)"
   ]
  },
  {
   "cell_type": "code",
   "execution_count": 82,
   "id": "1463c86e",
   "metadata": {},
   "outputs": [
    {
     "name": "stdout",
     "output_type": "stream",
     "text": [
      "Product Name             Price \n",
      "\n",
      "earpods                   75\n",
      "book                      28\n",
      "jacket                    105\n",
      "whey                      120\n"
     ]
    }
   ],
   "source": [
    "user1.showCart()"
   ]
  },
  {
   "cell_type": "code",
   "execution_count": 83,
   "id": "e5c501f5",
   "metadata": {},
   "outputs": [
    {
     "ename": "AttributeError",
     "evalue": "'dict' object has no attribute 'value'",
     "output_type": "error",
     "traceback": [
      "\u001b[0;31m---------------------------------------------------------------------------\u001b[0m",
      "\u001b[0;31mAttributeError\u001b[0m                            Traceback (most recent call last)",
      "\u001b[0;32m/tmp/ipykernel_4806/2305876400.py\u001b[0m in \u001b[0;36m<module>\u001b[0;34m\u001b[0m\n\u001b[0;32m----> 1\u001b[0;31m \u001b[0muser1\u001b[0m\u001b[0;34m.\u001b[0m\u001b[0mtotal\u001b[0m\u001b[0;34m(\u001b[0m\u001b[0;34m)\u001b[0m\u001b[0;34m\u001b[0m\u001b[0;34m\u001b[0m\u001b[0m\n\u001b[0m",
      "\u001b[0;32m/tmp/ipykernel_4806/3495149594.py\u001b[0m in \u001b[0;36mtotal\u001b[0;34m(self)\u001b[0m\n\u001b[1;32m     11\u001b[0m     \u001b[0;32mdef\u001b[0m \u001b[0mtotal\u001b[0m\u001b[0;34m(\u001b[0m\u001b[0mself\u001b[0m\u001b[0;34m)\u001b[0m\u001b[0;34m:\u001b[0m\u001b[0;34m\u001b[0m\u001b[0;34m\u001b[0m\u001b[0m\n\u001b[1;32m     12\u001b[0m         \u001b[0mtotal\u001b[0m \u001b[0;34m=\u001b[0m \u001b[0;36m0\u001b[0m\u001b[0;34m\u001b[0m\u001b[0;34m\u001b[0m\u001b[0m\n\u001b[0;32m---> 13\u001b[0;31m         \u001b[0;32mfor\u001b[0m \u001b[0mvalue\u001b[0m \u001b[0;32min\u001b[0m \u001b[0mself\u001b[0m\u001b[0;34m.\u001b[0m\u001b[0mlist\u001b[0m\u001b[0;34m.\u001b[0m\u001b[0mvalue\u001b[0m\u001b[0;34m(\u001b[0m\u001b[0;34m)\u001b[0m\u001b[0;34m:\u001b[0m\u001b[0;34m\u001b[0m\u001b[0;34m\u001b[0m\u001b[0m\n\u001b[0m\u001b[1;32m     14\u001b[0m             \u001b[0mtotal\u001b[0m \u001b[0;34m+=\u001b[0m \u001b[0mvalue\u001b[0m\u001b[0;34m\u001b[0m\u001b[0;34m\u001b[0m\u001b[0m\n\u001b[1;32m     15\u001b[0m         \u001b[0mprint\u001b[0m\u001b[0;34m(\u001b[0m\u001b[0;34mf\"Grand Total = {total}\"\u001b[0m\u001b[0;34m)\u001b[0m\u001b[0;34m\u001b[0m\u001b[0;34m\u001b[0m\u001b[0m\n",
      "\u001b[0;31mAttributeError\u001b[0m: 'dict' object has no attribute 'value'"
     ]
    }
   ],
   "source": [
    "user1.total()"
   ]
  },
  {
   "cell_type": "code",
   "execution_count": null,
   "id": "729ce4be",
   "metadata": {},
   "outputs": [],
   "source": []
  }
 ],
 "metadata": {
  "kernelspec": {
   "display_name": "Python 3 (ipykernel)",
   "language": "python",
   "name": "python3"
  },
  "language_info": {
   "codemirror_mode": {
    "name": "ipython",
    "version": 3
   },
   "file_extension": ".py",
   "mimetype": "text/x-python",
   "name": "python",
   "nbconvert_exporter": "python",
   "pygments_lexer": "ipython3",
   "version": "3.10.12"
  }
 },
 "nbformat": 4,
 "nbformat_minor": 5
}
