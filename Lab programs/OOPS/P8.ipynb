{
 "cells": [
  {
   "cell_type": "markdown",
   "id": "71a341d9",
   "metadata": {},
   "source": [
    "# Program 8"
   ]
  },
  {
   "cell_type": "markdown",
   "id": "f6eafd0d",
   "metadata": {},
   "source": [
    "## Write a Python program to create a shopping cart class with methods for adding/removing items and calculating the total price."
   ]
  },
  {
   "cell_type": "code",
   "execution_count": 57,
   "id": "81e7a7e1",
   "metadata": {},
   "outputs": [],
   "source": [
    "class Cart:\n",
    "    def __init__(self):\n",
    "        self.list = {}\n",
    "        \n",
    "    def add(self, p_name, price):\n",
    "        self.list[p_name] = price\n",
    "        \n",
    "    def rem(self, p1_name):\n",
    "        del self.list[p1_name]\n",
    "        \n",
    "    def total(self):\n",
    "        total = 0\n",
    "        for value in self.list.values():\n",
    "            total += value\n",
    "        return (f\"Grand Total{' ' * 12}   {total}\")\n",
    "            \n",
    "    def showCart(self):\n",
    "        print(f\"Product Name {' ' * 12}Price \\n\")\n",
    "        for key, value in self.list.items(): \n",
    "            print(f\"{key:<25} {value}\")\n",
    "        print(f\"\\n\\n{self.total()}\")\n",
    "    "
   ]
  },
  {
   "cell_type": "code",
   "execution_count": 58,
   "id": "31fbcef5",
   "metadata": {},
   "outputs": [],
   "source": [
    "user1 = Cart()"
   ]
  },
  {
   "cell_type": "code",
   "execution_count": 59,
   "id": "97c7bf9f",
   "metadata": {},
   "outputs": [],
   "source": [
    "user1.add('earpods', 75)\n",
    "user1.add('book', 28)\n",
    "user1.add('jacket', 105)\n",
    "user1.add('whey', 120)"
   ]
  },
  {
   "cell_type": "code",
   "execution_count": 60,
   "id": "9f61a85e",
   "metadata": {},
   "outputs": [
    {
     "name": "stdout",
     "output_type": "stream",
     "text": [
      "Product Name             Price \n",
      "\n",
      "earpods                   75\n",
      "book                      28\n",
      "jacket                    105\n",
      "whey                      120\n",
      "\n",
      "\n",
      "Grand Total               328\n"
     ]
    }
   ],
   "source": [
    "user1.showCart()"
   ]
  },
  {
   "cell_type": "code",
   "execution_count": 62,
   "id": "c8f973ad",
   "metadata": {},
   "outputs": [],
   "source": [
    "user1.rem('jacket')"
   ]
  },
  {
   "cell_type": "code",
   "execution_count": 63,
   "id": "1463c86e",
   "metadata": {},
   "outputs": [
    {
     "name": "stdout",
     "output_type": "stream",
     "text": [
      "Product Name             Price \n",
      "\n",
      "earpods                   75\n",
      "book                      28\n",
      "whey                      120\n",
      "\n",
      "\n",
      "Grand Total               223\n"
     ]
    }
   ],
   "source": [
    "user1.showCart()"
   ]
  }
 ],
 "metadata": {
  "kernelspec": {
   "display_name": "Python 3 (ipykernel)",
   "language": "python",
   "name": "python3"
  },
  "language_info": {
   "codemirror_mode": {
    "name": "ipython",
    "version": 3
   },
   "file_extension": ".py",
   "mimetype": "text/x-python",
   "name": "python",
   "nbconvert_exporter": "python",
   "pygments_lexer": "ipython3",
   "version": "3.10.12"
  }
 },
 "nbformat": 4,
 "nbformat_minor": 5
}
