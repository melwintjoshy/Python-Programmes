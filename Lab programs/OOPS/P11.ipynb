{
 "cells": [
  {
   "cell_type": "markdown",
   "id": "9e6c6fb0",
   "metadata": {},
   "source": [
    "# Program 11"
   ]
  },
  {
   "cell_type": "markdown",
   "id": "8f4109b9",
   "metadata": {},
   "source": [
    "## Create a Vehicle class and derive classes such as Car and Bus from it, implementing shared attributes and methods like seating capacity."
   ]
  },
  {
   "cell_type": "code",
   "execution_count": 1,
   "id": "1d0f62d7",
   "metadata": {},
   "outputs": [],
   "source": [
    "class Vehicle:\n",
    "    def __init__(self, make, model, year, seating_capacity):\n",
    "        self.make = make\n",
    "        self.model = model\n",
    "        self.year = year\n",
    "        self.seating_capacity = seating_capacity\n",
    "\n",
    "    def display_info(self):\n",
    "        return f\"{self.year} {self.make} {self.model} - Seating Capacity: {self.seating_capacity}\"\n",
    "\n",
    "    def is_full(self, passengers):\n",
    "        return passengers >= self.seating_capacity\n",
    "\n",
    "\n",
    "class Car(Vehicle):\n",
    "    def __init__(self, make, model, year, seating_capacity=5):\n",
    "        super().__init__(make, model, year, seating_capacity)\n",
    "\n",
    "    def display_info(self):\n",
    "        return f\"Car: {super().display_info()}\"\n",
    "\n",
    "\n",
    "class Bus(Vehicle):\n",
    "    def __init__(self, make, model, year, seating_capacity=30):\n",
    "        super().__init__(make, model, year, seating_capacity)\n",
    "\n",
    "    def display_info(self):\n",
    "        return f\"Bus: {super().display_info()}\"\n"
   ]
  },
  {
   "cell_type": "code",
   "execution_count": 4,
   "id": "bcb97807",
   "metadata": {},
   "outputs": [
    {
     "name": "stdout",
     "output_type": "stream",
     "text": [
      "Car: 2020 Ford Mustang - Seating Capacity: 5\n",
      "Bus: 2022 Lamborghini Gallardo - Seating Capacity: 30\n",
      "Is car full? False\n",
      "Is bus full? True\n"
     ]
    }
   ],
   "source": [
    "\n",
    "if __name__ == \"__main__\":\n",
    "    car = Car(\"Ford\", \"Mustang\", 2020)\n",
    "    bus = Bus(\"Lamborghini\", \"Gallardo\", 2022)\n",
    "\n",
    "    print(car.display_info())\n",
    "    print(bus.display_info())\n",
    "\n",
    "    passengers_in_car = 4\n",
    "    passengers_in_bus = 30\n",
    "    print(\"Is car full?\", car.is_full(passengers_in_car))\n",
    "    print(\"Is bus full?\", bus.is_full(passengers_in_bus))\n"
   ]
  }
 ],
 "metadata": {
  "kernelspec": {
   "display_name": "Python 3 (ipykernel)",
   "language": "python",
   "name": "python3"
  },
  "language_info": {
   "codemirror_mode": {
    "name": "ipython",
    "version": 3
   },
   "file_extension": ".py",
   "mimetype": "text/x-python",
   "name": "python",
   "nbconvert_exporter": "python",
   "pygments_lexer": "ipython3",
   "version": "3.10.12"
  }
 },
 "nbformat": 4,
 "nbformat_minor": 5
}
