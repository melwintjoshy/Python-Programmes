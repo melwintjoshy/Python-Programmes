{
 "cells": [
  {
   "cell_type": "markdown",
   "id": "30c137a2",
   "metadata": {},
   "source": [
    "# Program 10"
   ]
  },
  {
   "cell_type": "markdown",
   "id": "c6ba3544",
   "metadata": {},
   "source": [
    "## Write a Python program to create a bank class that includes methods for managing customer accounts and transactions (like deposits and withdrawals)."
   ]
  },
  {
   "cell_type": "code",
   "execution_count": 3,
   "id": "2f559db0",
   "metadata": {},
   "outputs": [],
   "source": [
    "class Bank:\n",
    "    def __init__(self, acc_no, acc_holder, balance=0):\n",
    "        self.acc_no = acc_no\n",
    "        self.acc_holder = acc_holder\n",
    "        self.balance = balance\n",
    "\n",
    "    def deposit(self, amount):\n",
    "        \n",
    "        if amount > 0:\n",
    "            self.balance += amount\n",
    "            print(f\"Deposited Rs.{amount}. New balance: Rs.{self.balance}\")\n",
    "        else:\n",
    "            print(\"Error!\")\n",
    "\n",
    "    def withdraw(self, amount):\n",
    "   \n",
    "        if 0 < amount <= self.balance:\n",
    "            self.balance -= amount\n",
    "            print(f\"Withdrew Rs.{amount}. New balance: Rs.{self.balance}\")\n",
    "        else:\n",
    "            print(\"Insufficient balance.\")\n"
   ]
  },
  {
   "cell_type": "code",
   "execution_count": 4,
   "id": "87e87e54",
   "metadata": {},
   "outputs": [],
   "source": [
    "acc1 = Bank(369, \"Krithik\", 250)"
   ]
  },
  {
   "cell_type": "code",
   "execution_count": 6,
   "id": "5a52ce81",
   "metadata": {},
   "outputs": [
    {
     "name": "stdout",
     "output_type": "stream",
     "text": [
      "Deposited Rs.5000. New balance: Rs.5250\n"
     ]
    }
   ],
   "source": [
    "acc1.deposit(5000)"
   ]
  },
  {
   "cell_type": "code",
   "execution_count": 8,
   "id": "7f708dd2",
   "metadata": {},
   "outputs": [
    {
     "name": "stdout",
     "output_type": "stream",
     "text": [
      "Withdrew Rs.200. New balance: Rs.5050\n"
     ]
    }
   ],
   "source": [
    "acc1.withdraw(200)"
   ]
  }
 ],
 "metadata": {
  "kernelspec": {
   "display_name": "Python 3 (ipykernel)",
   "language": "python",
   "name": "python3"
  },
  "language_info": {
   "codemirror_mode": {
    "name": "ipython",
    "version": 3
   },
   "file_extension": ".py",
   "mimetype": "text/x-python",
   "name": "python",
   "nbconvert_exporter": "python",
   "pygments_lexer": "ipython3",
   "version": "3.10.12"
  }
 },
 "nbformat": 4,
 "nbformat_minor": 5
}
