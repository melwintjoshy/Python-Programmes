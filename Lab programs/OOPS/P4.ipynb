{
 "cells": [
  {
   "cell_type": "markdown",
   "id": "a7e372d1",
   "metadata": {},
   "source": [
    "# Program 4"
   ]
  },
  {
   "cell_type": "markdown",
   "id": "ccf29ffd",
   "metadata": {},
   "source": [
    "## Create a class that represents a shape and implement subclasses for different shapes like circle, triangle, and square, including methods to calculate their area and perimeter."
   ]
  },
  {
   "cell_type": "code",
   "execution_count": 41,
   "id": "c24300ab",
   "metadata": {},
   "outputs": [],
   "source": [
    "    class Shape:\n",
    "        def __init__(self, name):\n",
    "            self.name = name\n",
    "\n",
    "    class Circle(Shape):\n",
    "        def __init__(self, name, radius):\n",
    "            super().__init__(name)\n",
    "            self.r = radius\n",
    "            \n",
    "        def area(self):\n",
    "                area = 3,14 * (self.r ** 2)\n",
    "                print(f\"Area of {self.name} is {area}\")\n",
    "        def perimeter(self):\n",
    "                p = 2 * 3.14 * self.r\n",
    "                print(f\"Perimeter of {self.name} is {p}\")\n",
    "    \n",
    "    class Triangle(Shape):\n",
    "        def __init__(self, name, a, b, c):\n",
    "            super().__init__(name)\n",
    "            self.a = a\n",
    "            self.b = b\n",
    "            self.c = c\n",
    "            \n",
    "        def perimeter(self):\n",
    "                p = self.a + self.b + self.c\n",
    "                print(f\"Perimeter of {self.name} is {p}\")\n",
    "    \n",
    "        def area(self):\n",
    "                s = (self.a + self.b + self.c) / 2\n",
    "                area = (s * ((s - self.a) * (s - self.b) * (s - self.c))) ** 0.5\n",
    "                print(f\"Area of {self.name} is {area}\")\n",
    "            \n",
    "    class Square(Shape):\n",
    "        def __init__(self, name, side):\n",
    "            super().__init__(name)\n",
    "            self.a = side\n",
    "            \n",
    "        def area(self):\n",
    "                area = self.a ** 2\n",
    "                print(f\"Area of {self.name} is {area}\")\n",
    "        def perimeter(self):\n",
    "                p = 4 * self.a\n",
    "                print(f\"Perimeter of {self.name} is {p}\")\n",
    "    \n",
    "    \n",
    "                "
   ]
  },
  {
   "cell_type": "code",
   "execution_count": 42,
   "id": "7c47675d",
   "metadata": {},
   "outputs": [],
   "source": [
    "circle0 = Shape('Circle')"
   ]
  },
  {
   "cell_type": "code",
   "execution_count": 43,
   "id": "7f968eed",
   "metadata": {},
   "outputs": [],
   "source": [
    "circle2 = Circle('Circle 1', 5)"
   ]
  },
  {
   "cell_type": "code",
   "execution_count": 49,
   "id": "b3bf8a0e",
   "metadata": {},
   "outputs": [],
   "source": [
    "sq1 = Square('Square 1', 9)"
   ]
  },
  {
   "cell_type": "code",
   "execution_count": 50,
   "id": "8aeb7bde",
   "metadata": {},
   "outputs": [],
   "source": [
    "tr1 = Triangle('Triangle 1', 6 , 7, 8)"
   ]
  },
  {
   "cell_type": "code",
   "execution_count": 55,
   "id": "d40955bc",
   "metadata": {},
   "outputs": [
    {
     "name": "stdout",
     "output_type": "stream",
     "text": [
      "Area of Triangle 1 is 20.33316256758894\n"
     ]
    }
   ],
   "source": [
    "tr1.area()"
   ]
  },
  {
   "cell_type": "code",
   "execution_count": 56,
   "id": "86308037",
   "metadata": {},
   "outputs": [
    {
     "name": "stdout",
     "output_type": "stream",
     "text": [
      "Perimeter of Circle 1 is 31.400000000000002\n"
     ]
    }
   ],
   "source": [
    "circle2.perimeter()"
   ]
  },
  {
   "cell_type": "code",
   "execution_count": 57,
   "id": "acdd8c77",
   "metadata": {},
   "outputs": [
    {
     "name": "stdout",
     "output_type": "stream",
     "text": [
      "Area of Square 1 is 81\n",
      "Perimeter of Square 1 is 36\n"
     ]
    }
   ],
   "source": [
    "sq1.area()\n",
    "sq1.perimeter()"
   ]
  }
 ],
 "metadata": {
  "kernelspec": {
   "display_name": "Python 3 (ipykernel)",
   "language": "python",
   "name": "python3"
  },
  "language_info": {
   "codemirror_mode": {
    "name": "ipython",
    "version": 3
   },
   "file_extension": ".py",
   "mimetype": "text/x-python",
   "name": "python",
   "nbconvert_exporter": "python",
   "pygments_lexer": "ipython3",
   "version": "3.10.12"
  }
 },
 "nbformat": 4,
 "nbformat_minor": 5
}
