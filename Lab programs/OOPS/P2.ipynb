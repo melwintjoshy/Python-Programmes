{
 "cells": [
  {
   "cell_type": "markdown",
   "id": "23f4caa8",
   "metadata": {},
   "source": [
    "# Program 2"
   ]
  },
  {
   "cell_type": "markdown",
   "id": "62cd160d",
   "metadata": {},
   "source": [
    "### Write a Python program to create a person class with attributes like name, country, and date of birth. Implement a method to determine the person’s age."
   ]
  },
  {
   "cell_type": "code",
   "execution_count": 26,
   "id": "c97d55f8",
   "metadata": {},
   "outputs": [],
   "source": [
    "class Person:\n",
    "    def __init__(self, name, country, dob):\n",
    "        self.name = name\n",
    "        self.country = country \n",
    "        self.dob = dob\n",
    "    \n",
    "    def age(self):\n",
    "        d = self.dob.split(\"-\")\n",
    "        print(\"Date should be entered in the format(dd-mm-yyyy)\\n\")\n",
    "        d_today = (input(\"Enter today's date: \").split(\"-\"))\n",
    "        if(int(d_today[2]) >= int(d[2])):\n",
    "            if int(d_today[0]) >= int(d[0]) and int(d_today[1]) >= int(d[1]) :\n",
    "                age = int(d_today[2]) - int(d[2])\n",
    "            else:\n",
    "                age = int(d_today[2]) - int(d[2]) - 1\n",
    "            print(f\"Age of {self.name} is {age}.\")\n",
    "        else:\n",
    "            print(\"Invalid Input!!!\")"
   ]
  },
  {
   "cell_type": "code",
   "execution_count": 27,
   "id": "2dd376ea",
   "metadata": {},
   "outputs": [],
   "source": [
    "user1 = Person('Zayan','India', '7-9-2002')"
   ]
  },
  {
   "cell_type": "code",
   "execution_count": 28,
   "id": "ccf38f35",
   "metadata": {},
   "outputs": [
    {
     "name": "stdout",
     "output_type": "stream",
     "text": [
      "Date should be entered in the format(dd-mm-yyyy)\n",
      "\n",
      "Enter today's date: 22-10-2024\n",
      "Age of Zayan is 22.\n"
     ]
    }
   ],
   "source": [
    "user1.age()"
   ]
  },
  {
   "cell_type": "code",
   "execution_count": 29,
   "id": "7fe14ce1",
   "metadata": {},
   "outputs": [
    {
     "name": "stdout",
     "output_type": "stream",
     "text": [
      "Date should be entered in the format(dd-mm-yyyy)\n",
      "\n",
      "Enter today's date: 22-10-1905\n",
      "Invalid Input!!!\n"
     ]
    }
   ],
   "source": [
    "user2 = Person('Dil', 'India', '22-10-2002')\n",
    "user2.age()"
   ]
  }
 ],
 "metadata": {
  "kernelspec": {
   "display_name": "Python 3 (ipykernel)",
   "language": "python",
   "name": "python3"
  },
  "language_info": {
   "codemirror_mode": {
    "name": "ipython",
    "version": 3
   },
   "file_extension": ".py",
   "mimetype": "text/x-python",
   "name": "python",
   "nbconvert_exporter": "python",
   "pygments_lexer": "ipython3",
   "version": "3.10.12"
  }
 },
 "nbformat": 4,
 "nbformat_minor": 5
}
