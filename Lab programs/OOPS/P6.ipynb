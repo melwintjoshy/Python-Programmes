{
 "cells": [
  {
   "cell_type": "markdown",
   "id": "24932634",
   "metadata": {},
   "source": [
    "# Program 6"
   ]
  },
  {
   "cell_type": "markdown",
   "id": "3998c8eb",
   "metadata": {},
   "source": [
    "## Implement a class representing a stack data structure with methods for pushing and popping elements."
   ]
  },
  {
   "cell_type": "code",
   "execution_count": 58,
   "id": "70bb6272",
   "metadata": {},
   "outputs": [],
   "source": [
    "class Stack:\n",
    "    def __init__(self):\n",
    "        self.stack_arr = []\n",
    "    \n",
    "    def __str__(self):\n",
    "        return f\"The elements of the stack are {self.stack_arr}\"\n",
    "    \n",
    "    def push(self, data):\n",
    "            self.stack_arr.append(data)\n",
    "            \n",
    "    def pop(self):\n",
    "        if len(self.stack_arr) == 0:\n",
    "            print(\"Stack underflow\")\n",
    "        else:\n",
    "            print(f\"{self.stack_arr[len(self.stack_arr) - 1]} POPPED.\")\n",
    "            self.stack_arr.pop()\n",
    "              "
   ]
  },
  {
   "cell_type": "code",
   "execution_count": 59,
   "id": "eb0ff4b0",
   "metadata": {},
   "outputs": [],
   "source": [
    "stack1 = Stack()"
   ]
  },
  {
   "cell_type": "code",
   "execution_count": 60,
   "id": "656bf340",
   "metadata": {},
   "outputs": [],
   "source": [
    "stack1.push(10)\n",
    "stack1.push(2)\n",
    "stack1.push(7)\n",
    "stack1.push(6)"
   ]
  },
  {
   "cell_type": "code",
   "execution_count": 61,
   "id": "1756fdbf",
   "metadata": {},
   "outputs": [
    {
     "name": "stdout",
     "output_type": "stream",
     "text": [
      "The elements of the stack are [10, 2, 7, 6]\n"
     ]
    }
   ],
   "source": [
    "print(stack1)"
   ]
  },
  {
   "cell_type": "code",
   "execution_count": 62,
   "id": "be383fe6",
   "metadata": {},
   "outputs": [
    {
     "name": "stdout",
     "output_type": "stream",
     "text": [
      "6 POPPED.\n"
     ]
    }
   ],
   "source": [
    "stack1.pop()"
   ]
  },
  {
   "cell_type": "code",
   "execution_count": 63,
   "id": "a9d16706",
   "metadata": {},
   "outputs": [
    {
     "name": "stdout",
     "output_type": "stream",
     "text": [
      "The elements of the stack are [10, 2, 7]\n"
     ]
    }
   ],
   "source": [
    "print(stack1)"
   ]
  }
 ],
 "metadata": {
  "kernelspec": {
   "display_name": "Python 3 (ipykernel)",
   "language": "python",
   "name": "python3"
  },
  "language_info": {
   "codemirror_mode": {
    "name": "ipython",
    "version": 3
   },
   "file_extension": ".py",
   "mimetype": "text/x-python",
   "name": "python",
   "nbconvert_exporter": "python",
   "pygments_lexer": "ipython3",
   "version": "3.10.12"
  }
 },
 "nbformat": 4,
 "nbformat_minor": 5
}
