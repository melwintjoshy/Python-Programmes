{
 "cells": [
  {
   "cell_type": "markdown",
   "id": "a1162e2e",
   "metadata": {},
   "source": [
    "# Program 9"
   ]
  },
  {
   "cell_type": "markdown",
   "id": "d48aba09",
   "metadata": {},
   "source": [
    "## Create a class representing a queue data structure with methods for enqueuing and dequeuing elements."
   ]
  },
  {
   "cell_type": "code",
   "execution_count": 1,
   "id": "1a551327",
   "metadata": {},
   "outputs": [],
   "source": [
    "class Queue:\n",
    "    def __init__(self):\n",
    "        self.queue_arr = []\n",
    "        self.front = 0\n",
    "        self.rear = -1\n",
    "    \n",
    "    def enqueue(self, data):\n",
    "        self.queue_arr.append(data)\n",
    "        self.rear += 1\n",
    "    \n",
    "    def dequeue(self):\n",
    "        del self.queue_arr[self.front]\n",
    "        self.front += 1\n",
    "    \n",
    "    def printQueue(self):\n",
    "        for i in range(self.front, self.rear):\n",
    "            print(self.queue_arr[i])"
   ]
  },
  {
   "cell_type": "code",
   "execution_count": 2,
   "id": "03f7f752",
   "metadata": {},
   "outputs": [],
   "source": [
    "q1 = Queue()"
   ]
  },
  {
   "cell_type": "code",
   "execution_count": 3,
   "id": "9af8a4cc",
   "metadata": {},
   "outputs": [],
   "source": [
    "q1.enqueue(62)\n",
    "q1.enqueue(36)\n",
    "q1.enqueue(98)\n",
    "q1.enqueue(99)\n",
    "q1.enqueue(75)"
   ]
  },
  {
   "cell_type": "code",
   "execution_count": 4,
   "id": "23718231",
   "metadata": {},
   "outputs": [],
   "source": [
    "q1.dequeue()"
   ]
  },
  {
   "cell_type": "code",
   "execution_count": 5,
   "id": "8f6bf579",
   "metadata": {},
   "outputs": [
    {
     "name": "stdout",
     "output_type": "stream",
     "text": [
      "98\n",
      "99\n",
      "75\n"
     ]
    }
   ],
   "source": [
    "q1.printQueue()"
   ]
  },
  {
   "cell_type": "code",
   "execution_count": null,
   "id": "85b9909d",
   "metadata": {},
   "outputs": [],
   "source": []
  }
 ],
 "metadata": {
  "kernelspec": {
   "display_name": "Python 3 (ipykernel)",
   "language": "python",
   "name": "python3"
  },
  "language_info": {
   "codemirror_mode": {
    "name": "ipython",
    "version": 3
   },
   "file_extension": ".py",
   "mimetype": "text/x-python",
   "name": "python",
   "nbconvert_exporter": "python",
   "pygments_lexer": "ipython3",
   "version": "3.10.12"
  }
 },
 "nbformat": 4,
 "nbformat_minor": 5
}
