{
 "cells": [
  {
   "cell_type": "markdown",
   "id": "5b154f72",
   "metadata": {},
   "source": [
    "# Program 12"
   ]
  },
  {
   "cell_type": "markdown",
   "id": "300c9ae1",
   "metadata": {},
   "source": [
    "## Write a program to determine which class an object belongs to using the type() function in Python."
   ]
  },
  {
   "cell_type": "code",
   "execution_count": 4,
   "id": "dc1bf39c",
   "metadata": {},
   "outputs": [],
   "source": [
    "class Vehicle:\n",
    "    def __init__(self, make, model):\n",
    "        self.make = make\n",
    "        self.model = model\n",
    "\n",
    "class Car(Vehicle):\n",
    "    def __init__(self, make, model):\n",
    "        super().__init__(make, model)\n",
    "\n",
    "class Truck(Vehicle):\n",
    "    def __init__(self, make, model):\n",
    "        super().__init__(make, model)"
   ]
  },
  {
   "cell_type": "code",
   "execution_count": 6,
   "id": "e9d2bf6c",
   "metadata": {},
   "outputs": [
    {
     "name": "stdout",
     "output_type": "stream",
     "text": [
      "Toyota Camry is of type: <class '__main__.Car'>\n",
      "Ford F-150 is of type: <class '__main__.Truck'>\n"
     ]
    }
   ],
   "source": [
    "if __name__ == \"__main__\":\n",
    "    car = Car(\"Toyota\", \"Camry\")\n",
    "    truck = Truck(\"Ford\", \"F-150\")\n",
    "\n",
    "    print(f\"{car.make} {car.model} is of type: {type(car)}\")\n",
    "    print(f\"{truck.make} {truck.model} is of type: {type(truck)}\")"
   ]
  }
 ],
 "metadata": {
  "kernelspec": {
   "display_name": "Python 3 (ipykernel)",
   "language": "python",
   "name": "python3"
  },
  "language_info": {
   "codemirror_mode": {
    "name": "ipython",
    "version": 3
   },
   "file_extension": ".py",
   "mimetype": "text/x-python",
   "name": "python",
   "nbconvert_exporter": "python",
   "pygments_lexer": "ipython3",
   "version": "3.10.12"
  }
 },
 "nbformat": 4,
 "nbformat_minor": 5
}
