{
 "cells": [
  {
   "cell_type": "code",
   "execution_count": 50,
   "id": "ae782bd2",
   "metadata": {},
   "outputs": [],
   "source": [
    "def rev(string):\n",
    "    a = string.split()\n",
    "    n = len(a)\n",
    "    \n",
    "    i = 0\n",
    "    j = n - 1\n",
    "    while (i < j):\n",
    "        a[i], a[j] = a[j], a[i]\n",
    "        i = i + 1\n",
    "        j = j - 1\n",
    "    for i in range(n):\n",
    "        print(a[i], end = \" \")"
   ]
  },
  {
   "cell_type": "code",
   "execution_count": 52,
   "id": "3d100751",
   "metadata": {},
   "outputs": [
    {
     "name": "stdout",
     "output_type": "stream",
     "text": [
      "Enter a string: my name is melwin\n",
      "melwin is name my "
     ]
    }
   ],
   "source": [
    "x = input(\"Enter a string: \")\n",
    "rev(x)"
   ]
  },
  {
   "cell_type": "code",
   "execution_count": null,
   "id": "954c28a4",
   "metadata": {},
   "outputs": [],
   "source": []
  }
 ],
 "metadata": {
  "kernelspec": {
   "display_name": "Python 3 (ipykernel)",
   "language": "python",
   "name": "python3"
  },
  "language_info": {
   "codemirror_mode": {
    "name": "ipython",
    "version": 3
   },
   "file_extension": ".py",
   "mimetype": "text/x-python",
   "name": "python",
   "nbconvert_exporter": "python",
   "pygments_lexer": "ipython3",
   "version": "3.10.9"
  }
 },
 "nbformat": 4,
 "nbformat_minor": 5
}
