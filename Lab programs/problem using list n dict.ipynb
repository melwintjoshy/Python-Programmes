{
 "cells": [
  {
   "cell_type": "markdown",
   "id": "bffbba59",
   "metadata": {},
   "source": [
    "Create a list of integers from 1 to 10, then using list comprehension create lists of squares and cubes. \n",
    "\n",
    "Then create a dictionary where keys are numbers, squares and cubes and values are corresponding lists,\n",
    "\n",
    "finally iterate through dictionary to print it."
   ]
  },
  {
   "cell_type": "code",
   "execution_count": 15,
   "id": "d1d243bf",
   "metadata": {},
   "outputs": [],
   "source": [
    "list = [x for x in range(1,11)]"
   ]
  },
  {
   "cell_type": "code",
   "execution_count": 16,
   "id": "fb65ed8e",
   "metadata": {},
   "outputs": [
    {
     "name": "stdout",
     "output_type": "stream",
     "text": [
      "[1, 2, 3, 4, 5, 6, 7, 8, 9, 10]\n"
     ]
    }
   ],
   "source": [
    "print(list)"
   ]
  },
  {
   "cell_type": "code",
   "execution_count": 17,
   "id": "9f5c4f52",
   "metadata": {},
   "outputs": [],
   "source": [
    "list_s = [list[i]**2 for i in range(len(list))]\n",
    "list_c = [list[i]**3 for i in range(len(list))]"
   ]
  },
  {
   "cell_type": "code",
   "execution_count": 18,
   "id": "ea843ebe",
   "metadata": {},
   "outputs": [
    {
     "name": "stdout",
     "output_type": "stream",
     "text": [
      "[1, 4, 9, 16, 25, 36, 49, 64, 81, 100]\n",
      "[1, 8, 27, 64, 125, 216, 343, 512, 729, 1000]\n"
     ]
    }
   ],
   "source": [
    "print(list_s)\n",
    "print(list_c)"
   ]
  },
  {
   "cell_type": "code",
   "execution_count": 19,
   "id": "55d7bfd6",
   "metadata": {},
   "outputs": [],
   "source": [
    "k = {} \n",
    "\n",
    "k['num'] = list\n",
    "k['squares'] = list_s\n",
    "k['cubes'] = list_c\n",
    "    \n",
    "    "
   ]
  },
  {
   "cell_type": "code",
   "execution_count": 20,
   "id": "c15e8039",
   "metadata": {},
   "outputs": [
    {
     "name": "stdout",
     "output_type": "stream",
     "text": [
      "num : [1, 2, 3, 4, 5, 6, 7, 8, 9, 10]\n",
      "squares : [1, 4, 9, 16, 25, 36, 49, 64, 81, 100]\n",
      "cubes : [1, 8, 27, 64, 125, 216, 343, 512, 729, 1000]\n"
     ]
    }
   ],
   "source": [
    "for key, value in k.items():\n",
    "    print(f\"{key} : {value}\")"
   ]
  }
 ],
 "metadata": {
  "kernelspec": {
   "display_name": "Python 3 (ipykernel)",
   "language": "python",
   "name": "python3"
  },
  "language_info": {
   "codemirror_mode": {
    "name": "ipython",
    "version": 3
   },
   "file_extension": ".py",
   "mimetype": "text/x-python",
   "name": "python",
   "nbconvert_exporter": "python",
   "pygments_lexer": "ipython3",
   "version": "3.10.9"
  }
 },
 "nbformat": 4,
 "nbformat_minor": 5
}
