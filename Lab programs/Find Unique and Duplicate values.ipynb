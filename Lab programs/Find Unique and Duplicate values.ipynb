{
 "cells": [
  {
   "cell_type": "code",
   "execution_count": 1,
   "id": "281668fe",
   "metadata": {},
   "outputs": [
    {
     "name": "stdout",
     "output_type": "stream",
     "text": [
      "['apple', 'orange', 'banana', 'orange', 'grapes', 'apple']\n"
     ]
    }
   ],
   "source": [
    "list = ['apple', 'orange', 'banana', 'orange', 'grapes', 'apple']\n",
    "\n",
    "n = len(list)\n",
    "print(list)"
   ]
  },
  {
   "cell_type": "code",
   "execution_count": 3,
   "id": "c5c7ea99",
   "metadata": {},
   "outputs": [],
   "source": [
    "uni = []\n",
    "dup =[]"
   ]
  },
  {
   "cell_type": "code",
   "execution_count": 4,
   "id": "07623a6d",
   "metadata": {},
   "outputs": [],
   "source": [
    "for i in list:\n",
    "    count = 0\n",
    "    for j in list:\n",
    "        if i == j:\n",
    "            count = count + 1\n",
    "    \n",
    "    if count == 1:\n",
    "        uni.append(i)\n",
    "    if count > 1 and i not in dup:\n",
    "        dup.append(i)        "
   ]
  },
  {
   "cell_type": "code",
   "execution_count": 5,
   "id": "ee5716a7",
   "metadata": {},
   "outputs": [
    {
     "name": "stdout",
     "output_type": "stream",
     "text": [
      "Unique values : ['banana', 'grapes']\n",
      "Duplicate values: ['apple', 'orange'] \n"
     ]
    }
   ],
   "source": [
    "print(f\"Unique values : {uni}\")\n",
    "\n",
    "print(f\"Duplicate values: {dup} \")"
   ]
  },
  {
   "cell_type": "code",
   "execution_count": null,
   "id": "fe5847f6",
   "metadata": {},
   "outputs": [],
   "source": []
  }
 ],
 "metadata": {
  "kernelspec": {
   "display_name": "Python 3 (ipykernel)",
   "language": "python",
   "name": "python3"
  },
  "language_info": {
   "codemirror_mode": {
    "name": "ipython",
    "version": 3
   },
   "file_extension": ".py",
   "mimetype": "text/x-python",
   "name": "python",
   "nbconvert_exporter": "python",
   "pygments_lexer": "ipython3",
   "version": "3.10.9"
  }
 },
 "nbformat": 4,
 "nbformat_minor": 5
}
