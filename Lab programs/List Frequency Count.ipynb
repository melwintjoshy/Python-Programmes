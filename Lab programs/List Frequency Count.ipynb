{
 "cells": [
  {
   "cell_type": "markdown",
   "id": "17f57b33",
   "metadata": {},
   "source": [
    "Write a python program to create a function called `list_of_frequency` that takes a string and\n",
    "\n",
    "prints the letters in non-increasing order of the frequency of their occurrences. \n",
    "\n",
    "Use dictionaries."
   ]
  },
  {
   "cell_type": "code",
   "execution_count": 29,
   "id": "b0ac7517",
   "metadata": {},
   "outputs": [],
   "source": [
    "def list_of_frequency(string):\n",
    "    freq_list = {}\n",
    "    \n",
    "    for letter in string:\n",
    "        if letter not in freq_list:\n",
    "            freq_list[letter] = 1\n",
    "        else:\n",
    "            freq_list[letter] += 1\n",
    "            \n",
    "    print(\"Frequency of occurences: \")\n",
    "    while freq_list.items():\n",
    "        high_freq = {\"key\" : '' ,\"value\" : 0}\n",
    "        for key, value in freq_list.items():\n",
    "            if value > high_freq['value']:\n",
    "                high_freq['value'] = value\n",
    "                high_freq['key'] = key\n",
    "        del freq_list[high_freq['key']]\n",
    "        \n",
    "        print(f\"{high_freq['key']} : {high_freq['value']}\")"
   ]
  },
  {
   "cell_type": "code",
   "execution_count": 32,
   "id": "793f04e0",
   "metadata": {},
   "outputs": [
    {
     "name": "stdout",
     "output_type": "stream",
     "text": [
      "Enter a string: biggggdawwwwwggg234\n",
      "Frequency of occurences: \n",
      "g : 7\n",
      "w : 5\n",
      "b : 1\n",
      "i : 1\n",
      "d : 1\n",
      "a : 1\n",
      "2 : 1\n",
      "3 : 1\n",
      "4 : 1\n"
     ]
    }
   ],
   "source": [
    "string = str(input(\"Enter a string: \"))\n",
    "list_of_frequency(string)"
   ]
  }
 ],
 "metadata": {
  "kernelspec": {
   "display_name": "Python 3 (ipykernel)",
   "language": "python",
   "name": "python3"
  },
  "language_info": {
   "codemirror_mode": {
    "name": "ipython",
    "version": 3
   },
   "file_extension": ".py",
   "mimetype": "text/x-python",
   "name": "python",
   "nbconvert_exporter": "python",
   "pygments_lexer": "ipython3",
   "version": "3.10.9"
  }
 },
 "nbformat": 4,
 "nbformat_minor": 5
}
