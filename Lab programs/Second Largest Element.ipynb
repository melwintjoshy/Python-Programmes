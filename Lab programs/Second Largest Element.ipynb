{
 "cells": [
  {
   "cell_type": "markdown",
   "id": "3ccf2159",
   "metadata": {},
   "source": [
    "Python program to find second largest number in a list. (without sorting)"
   ]
  },
  {
   "cell_type": "code",
   "execution_count": 10,
   "id": "021e809c",
   "metadata": {},
   "outputs": [],
   "source": [
    "def input_list():\n",
    "    nums = []\n",
    "    count = int(input(\"Enter the number of elements: \"))\n",
    "    \n",
    "    print(\"Enter the elements: \")\n",
    "    for i in range(count):\n",
    "        num = int(input())\n",
    "        nums.append(num)\n",
    "    return nums"
   ]
  },
  {
   "cell_type": "code",
   "execution_count": 14,
   "id": "ab9ad1f5",
   "metadata": {},
   "outputs": [],
   "source": [
    "def find(nums):\n",
    "    big = 0\n",
    "    sec_big = 0\n",
    "    for i in range(len(nums)):\n",
    "        if nums[i] > big:\n",
    "            big = nums[i]\n",
    "    for i in range(len(nums)):\n",
    "        if nums[i] > sec_big and nums[i] != big:\n",
    "            sec_big = nums[i]\n",
    "    return sec_big\n",
    "                   "
   ]
  },
  {
   "cell_type": "code",
   "execution_count": 17,
   "id": "df76d4ad",
   "metadata": {},
   "outputs": [
    {
     "name": "stdout",
     "output_type": "stream",
     "text": [
      "Enter the number of elements: 4\n",
      "Enter the elements: \n",
      "234\n",
      "74\n",
      "512\n",
      "23\n"
     ]
    }
   ],
   "source": [
    "nums = input_list()"
   ]
  },
  {
   "cell_type": "code",
   "execution_count": 18,
   "id": "438fd784",
   "metadata": {},
   "outputs": [
    {
     "name": "stdout",
     "output_type": "stream",
     "text": [
      "234\n"
     ]
    }
   ],
   "source": [
    "print(find(nums))"
   ]
  }
 ],
 "metadata": {
  "kernelspec": {
   "display_name": "Python 3 (ipykernel)",
   "language": "python",
   "name": "python3"
  },
  "language_info": {
   "codemirror_mode": {
    "name": "ipython",
    "version": 3
   },
   "file_extension": ".py",
   "mimetype": "text/x-python",
   "name": "python",
   "nbconvert_exporter": "python",
   "pygments_lexer": "ipython3",
   "version": "3.10.9"
  }
 },
 "nbformat": 4,
 "nbformat_minor": 5
}
