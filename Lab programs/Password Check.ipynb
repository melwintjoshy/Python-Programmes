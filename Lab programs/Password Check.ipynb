{
 "cells": [
  {
   "cell_type": "markdown",
   "id": "831b3984",
   "metadata": {},
   "source": [
    " Write a python program to check the validity of a password given by the user. \n",
    " The password should satisfy the following criteria:\n",
    "\n",
    "1.Contains atleast one letter between a and z.  \n",
    "\n",
    "2.Contains atleast one number between 0 and 9.\n",
    "\n",
    "3.Contains atleast one letter between A and Z.\n",
    "\n",
    "4.Contains atleast one special character from $, #, @\n",
    "\n",
    "5.Minimum length of password is 6."
   ]
  },
  {
   "cell_type": "code",
   "execution_count": 4,
   "id": "fb262d5d",
   "metadata": {},
   "outputs": [],
   "source": [
    "def check(password):\n",
    "    if len(password) < 6:\n",
    "        return False\n",
    "    contains_lowercase = contains_uppercase = False\n",
    "    contains_number = contains_special = False\n",
    "    \n",
    "    for char in password:\n",
    "        if char.isalpha() and char.islower():\n",
    "            contains_lowercase = True\n",
    "        \n",
    "        if char.isalpha() and char.isupper():\n",
    "            contains_uppercase = True\n",
    "            \n",
    "        if char.isnumeric():\n",
    "            contains_number = True\n",
    "            \n",
    "        if char in \"@#$\":\n",
    "            contains_special = True\n",
    "            \n",
    "    return (contains_lowercase and contains_uppercase and contains_number and contains_special)"
   ]
  },
  {
   "cell_type": "code",
   "execution_count": 7,
   "id": "869b85a9",
   "metadata": {},
   "outputs": [
    {
     "name": "stdout",
     "output_type": "stream",
     "text": [
      "Enter your password: achuU124#\n",
      "Password is valid\n"
     ]
    }
   ],
   "source": [
    "password = input(\"Enter your password: \")\n",
    "print (\"Password is valid\") if check(password) else print(\"Not Valid\")\n"
   ]
  },
  {
   "cell_type": "code",
   "execution_count": null,
   "id": "5b91c170",
   "metadata": {},
   "outputs": [],
   "source": []
  }
 ],
 "metadata": {
  "kernelspec": {
   "display_name": "Python 3 (ipykernel)",
   "language": "python",
   "name": "python3"
  },
  "language_info": {
   "codemirror_mode": {
    "name": "ipython",
    "version": 3
   },
   "file_extension": ".py",
   "mimetype": "text/x-python",
   "name": "python",
   "nbconvert_exporter": "python",
   "pygments_lexer": "ipython3",
   "version": "3.10.9"
  }
 },
 "nbformat": 4,
 "nbformat_minor": 5
}
