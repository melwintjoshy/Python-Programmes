{
 "cells": [
  {
   "cell_type": "code",
   "execution_count": 8,
   "id": "df238264",
   "metadata": {},
   "outputs": [],
   "source": [
    "import array as ar"
   ]
  },
  {
   "cell_type": "code",
   "execution_count": 9,
   "id": "baa56609",
   "metadata": {},
   "outputs": [],
   "source": [
    "def input_list():\n",
    "    #nums = [] uses list\n",
    "    nums = ar.array('i',[]) #uses array imported from 'array' library\n",
    "    count = int(input(\"Enter the number of elements: \"))\n",
    "    \n",
    "    print(\"Enter the elements: \\n\")\n",
    "    \n",
    "    for i in range(count):\n",
    "        num = int(input())\n",
    "        nums.append(num)\n",
    "    return nums"
   ]
  },
  {
   "cell_type": "code",
   "execution_count": 10,
   "id": "e63b04d6",
   "metadata": {},
   "outputs": [],
   "source": [
    "def reverse(nums):\n",
    "    i = 0\n",
    "    j = len(nums) - 1\n",
    "    while(i < j):\n",
    "        temp = nums[i] \n",
    "        nums[i] = nums[j]\n",
    "        nums[j] = temp\n",
    "        \n",
    "        i = i + 1\n",
    "        j = j - 1\n",
    "        \n",
    "    print(\"The reversed array is : \")\n",
    "    for i in nums:\n",
    "        print(i , end = \" \")"
   ]
  },
  {
   "cell_type": "code",
   "execution_count": 11,
   "id": "64384853",
   "metadata": {},
   "outputs": [
    {
     "name": "stdout",
     "output_type": "stream",
     "text": [
      "Enter the number of elements: 5\n",
      "Enter the elements: \n",
      "\n",
      "1\n",
      "2\n",
      "3\n",
      "4\n",
      "4\n"
     ]
    }
   ],
   "source": [
    "nums = input_list()"
   ]
  },
  {
   "cell_type": "code",
   "execution_count": 12,
   "id": "d0e0f4f0",
   "metadata": {},
   "outputs": [
    {
     "name": "stdout",
     "output_type": "stream",
     "text": [
      "The reversed array is : \n",
      "4 4 3 2 1 "
     ]
    }
   ],
   "source": [
    "reverse(nums)"
   ]
  },
  {
   "cell_type": "code",
   "execution_count": null,
   "id": "d7f8fac5",
   "metadata": {},
   "outputs": [],
   "source": []
  }
 ],
 "metadata": {
  "kernelspec": {
   "display_name": "Python 3 (ipykernel)",
   "language": "python",
   "name": "python3"
  },
  "language_info": {
   "codemirror_mode": {
    "name": "ipython",
    "version": 3
   },
   "file_extension": ".py",
   "mimetype": "text/x-python",
   "name": "python",
   "nbconvert_exporter": "python",
   "pygments_lexer": "ipython3",
   "version": "3.10.9"
  }
 },
 "nbformat": 4,
 "nbformat_minor": 5
}
