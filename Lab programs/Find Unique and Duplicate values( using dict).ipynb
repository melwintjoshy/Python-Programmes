{
 "cells": [
  {
   "cell_type": "code",
   "execution_count": 32,
   "id": "7fab2622",
   "metadata": {},
   "outputs": [
    {
     "name": "stdout",
     "output_type": "stream",
     "text": [
      "['apple', 'orange', 'banana', 'orange', 'grapes', 'apple']\n"
     ]
    }
   ],
   "source": [
    "list = ['apple', 'orange', 'banana', 'orange', 'grapes', 'apple']\n",
    "\n",
    "n = len(list)\n",
    "print(list)"
   ]
  },
  {
   "cell_type": "code",
   "execution_count": 33,
   "id": "26f7edbd",
   "metadata": {},
   "outputs": [
    {
     "name": "stdout",
     "output_type": "stream",
     "text": [
      "{'apple': 2, 'orange': 2, 'banana': 1, 'grapes': 1}\n"
     ]
    }
   ],
   "source": [
    "d = {}\n",
    "for i in list:\n",
    "    if i not in d:\n",
    "        d[i] = 1\n",
    "    else:\n",
    "        d[i] += 1\n",
    "print(d)"
   ]
  },
  {
   "cell_type": "code",
   "execution_count": 34,
   "id": "264a5401",
   "metadata": {},
   "outputs": [],
   "source": [
    "uni = []\n",
    "dup = []\n",
    "for key, value in d.items():\n",
    "    if value == 1:\n",
    "        uni.append(key)\n",
    "    else:\n",
    "        dup.append(key)"
   ]
  },
  {
   "cell_type": "code",
   "execution_count": 35,
   "id": "678dcd09",
   "metadata": {},
   "outputs": [
    {
     "name": "stdout",
     "output_type": "stream",
     "text": [
      "Unique values : ['banana', 'grapes']\n"
     ]
    }
   ],
   "source": [
    "print(f\"Unique values : {uni}\")"
   ]
  },
  {
   "cell_type": "code",
   "execution_count": 38,
   "id": "728c2a9e",
   "metadata": {},
   "outputs": [
    {
     "name": "stdout",
     "output_type": "stream",
     "text": [
      "Duplicate values: ['apple', 'orange'] \n"
     ]
    }
   ],
   "source": [
    "print(f\"Duplicate values: {dup} \")"
   ]
  }
 ],
 "metadata": {
  "kernelspec": {
   "display_name": "Python 3 (ipykernel)",
   "language": "python",
   "name": "python3"
  },
  "language_info": {
   "codemirror_mode": {
    "name": "ipython",
    "version": 3
   },
   "file_extension": ".py",
   "mimetype": "text/x-python",
   "name": "python",
   "nbconvert_exporter": "python",
   "pygments_lexer": "ipython3",
   "version": "3.10.9"
  }
 },
 "nbformat": 4,
 "nbformat_minor": 5
}
